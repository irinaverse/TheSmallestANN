{
  "cells": [
    {
      "cell_type": "markdown",
      "metadata": {
        "id": "view-in-github",
        "colab_type": "text"
      },
      "source": [
        "<a href=\"https://colab.research.google.com/github/irinaverse/TheSmallestANN/blob/main/The_Smallest_ANN.ipynb\" target=\"_parent\"><img src=\"https://colab.research.google.com/assets/colab-badge.svg\" alt=\"Open In Colab\"/></a>"
      ]
    },
    {
      "cell_type": "code",
      "execution_count": null,
      "metadata": {
        "id": "WJy_rhBZARb8"
      },
      "outputs": [],
      "source": [
        "import numpy as np\n",
        "import matplotlib.pyplot as plt"
      ]
    },
    {
      "cell_type": "code",
      "execution_count": null,
      "metadata": {
        "id": "XzVYBSmTA9bK"
      },
      "outputs": [],
      "source": [
        "from tensorflow.keras.models import Sequential\n",
        "from tensorflow.keras.layers import Input, Dense"
      ]
    },
    {
      "cell_type": "markdown",
      "metadata": {
        "id": "XefxhNBTB0h5"
      },
      "source": [
        "### The Smallest Artificial Neural Network in the World\n",
        "*by Irina Nedyalkova*"
      ]
    },
    {
      "cell_type": "markdown",
      "metadata": {
        "id": "v4O9jpI0CSC1"
      },
      "source": [
        "Have you known that the smallest artificial neural network in the world has just a single neuron?"
      ]
    },
    {
      "cell_type": "markdown",
      "metadata": {
        "id": "iDYU25wPCpZY"
      },
      "source": [
        "Artificial neurons mimic the biological ones, they receive and send information. Connected elements in a neural network can have immense computational power and the very first step towards this idea was taken in 1943 by Warren McCulloch and Walter Pitts.\n",
        "\n",
        "McCulloch was a neurophysiologist, computer scientist, poet and philosopher. Pitts was an eccentric genius and logician. Their ideas rely mainly on symbolic logic. Mathematical logic is called \"symbolic logic\" or \"logistic\" and represents logical expressions through the use of symbols (artificial language). The neuron is a logical element and a neural network is divided into three parts:\n",
        "- input layer\n",
        "- neuron\n",
        "- output layer"
      ]
    },
    {
      "cell_type": "markdown",
      "metadata": {
        "id": "SAKvAJcOHm_7"
      },
      "source": [
        "The input layer receives data, ($x_1, x_2, x_3, ..., x_n$). Then we have the weights, ($w_1, w_2, w_3, ..., w_n$). The weights are not considered a layer but they define how the neuron learns. Thereafter, comes the body of our neural network - The Neuron, also called Unit or Node. Each and every calculation is made here. A node calculates the weighted sum of the input: $\\sum\\limits_{i=1}^nw_1*x_1$"
      ]
    },
    {
      "cell_type": "markdown",
      "metadata": {
        "id": "O0zEfeU3LAbJ"
      },
      "source": [
        "In the human brain, a neuron is activated by other neurons to which it is connected. In our tiny network here, I will apply computationally an activation function. In general, the activation functions decide whether a node should be activated or not, if the input data is useful or not. They use some mathematical operations to help the network choose the beneficial information and suppress the noise."
      ]
    },
    {
      "cell_type": "markdown",
      "metadata": {
        "id": "PVGcE57oN0qa"
      },
      "source": [
        "The smallest artificial neural network in the world must be trained on a really simple task, means regression model or predicting a number."
      ]
    },
    {
      "cell_type": "markdown",
      "source": [
        "..."
      ],
      "metadata": {
        "id": "ADHwUkUk6qi3"
      }
    },
    {
      "cell_type": "markdown",
      "source": [
        "..."
      ],
      "metadata": {
        "id": "yPrUWpe86t7e"
      }
    },
    {
      "cell_type": "markdown",
      "source": [
        "..."
      ],
      "metadata": {
        "id": "Kl1eSBqh6sei"
      }
    },
    {
      "cell_type": "markdown",
      "source": [
        "Work in progress. Never did I feel my smallness in the Universe more profoundly and never did I feel happier."
      ],
      "metadata": {
        "id": "KBteTayyX4sb"
      }
    }
  ],
  "metadata": {
    "colab": {
      "provenance": [],
      "authorship_tag": "ABX9TyM1JFGywQBfyjAAyo9fboHH",
      "include_colab_link": true
    },
    "kernelspec": {
      "display_name": "Python 3",
      "name": "python3"
    },
    "language_info": {
      "name": "python"
    }
  },
  "nbformat": 4,
  "nbformat_minor": 0
}