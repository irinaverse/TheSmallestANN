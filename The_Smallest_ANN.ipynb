{
  "cells": [
    {
      "cell_type": "markdown",
      "metadata": {
        "id": "view-in-github",
        "colab_type": "text"
      },
      "source": [
        "<a href=\"https://colab.research.google.com/github/irinaverse/TheSmallestANN/blob/main/The_Smallest_ANN.ipynb\" target=\"_parent\"><img src=\"https://colab.research.google.com/assets/colab-badge.svg\" alt=\"Open In Colab\"/></a>"
      ]
    },
    {
      "cell_type": "code",
      "execution_count": 1,
      "metadata": {
        "id": "WJy_rhBZARb8"
      },
      "outputs": [],
      "source": [
        "import numpy as np\n",
        "import matplotlib.pyplot as plt"
      ]
    },
    {
      "cell_type": "code",
      "execution_count": 2,
      "metadata": {
        "id": "XzVYBSmTA9bK"
      },
      "outputs": [],
      "source": [
        "from tensorflow import keras\n",
        "from tensorflow.keras.models import Sequential\n",
        "from tensorflow.keras.layers import Input, Dense"
      ]
    },
    {
      "cell_type": "markdown",
      "metadata": {
        "id": "XefxhNBTB0h5"
      },
      "source": [
        "### The Smallest Artificial Neural Network in the World\n",
        "*by Irina Nedyalkova*"
      ]
    },
    {
      "cell_type": "markdown",
      "metadata": {
        "id": "v4O9jpI0CSC1"
      },
      "source": [
        "Have you known that the smallest artificial neural network in the world has just a single neuron?"
      ]
    },
    {
      "cell_type": "markdown",
      "metadata": {
        "id": "iDYU25wPCpZY"
      },
      "source": [
        "Artificial neurons mimic the biological ones, they receive and send information. Connected elements in a neural network can have immense computational power and the very first step towards this idea was taken in 1943 by Warren McCulloch and Walter Pitts.\n",
        "\n",
        "McCulloch was a neurophysiologist, computer scientist, poet and philosopher. Pitts was an eccentric genius and logician. Their ideas rely mainly on symbolic logic. Mathematical logic is called \"symbolic logic\" or \"logistic\" and represents logical expressions through the use of symbols (artificial language). So, the neuron is a logical element. It gives a statement about the activity of its inputs and the network is divided into three parts:\n",
        "- input layer\n",
        "- neuron\n",
        "- output layer"
      ]
    },
    {
      "cell_type": "markdown",
      "metadata": {
        "id": "SAKvAJcOHm_7"
      },
      "source": [
        "The input layer receives data, ($x_1, x_2, x_3, ..., x_n$). Then we have the weights, ($w_1, w_2, w_3, ..., w_n$). These are the connections in our network structure and each weight represents the strength of that connection. The weights are not considered a layer but they define how the neuron learns. Thereafter, comes the body of our neural network - The Neuron, also called Unit or Node. Each and every calculation is made here. A node calculates the weighted sum of the input: $\\sum\\limits_{i=1}^nw_1*x_1$"
      ]
    },
    {
      "cell_type": "markdown",
      "metadata": {
        "id": "O0zEfeU3LAbJ"
      },
      "source": [
        "In the human brain, a neuron is activated by other neurons to which it is connected. In our tiny network here, I will apply computationally an activation function. In general, the activation functions decide whether a node should be activated or not, if the input data is useful or not. They use some mathematical operations to help the network choose the beneficial information and suppress the noise."
      ]
    },
    {
      "cell_type": "markdown",
      "metadata": {
        "id": "PVGcE57oN0qa"
      },
      "source": [
        "The smallest artificial neural network in the world must be trained on a really simple task, means regression model or predicting a number. I will give a try on my favourites - the Fibonacci's, although I sense, it might be too much computation for a single neuron."
      ]
    },
    {
      "cell_type": "code",
      "source": [
        "def fibonacci_sequence(number):\n",
        "\n",
        "    fibonacci = [0, 1]                   # fixed values\n",
        "    for num in range(2, number + 1):            # so we start from the second index\n",
        "        fibonacci.append(fibonacci[num - 1] + fibonacci[num - 2])\n",
        "    return fibonacci"
      ],
      "metadata": {
        "id": "13Ux9FrjpE6P"
      },
      "execution_count": 3,
      "outputs": []
    },
    {
      "cell_type": "code",
      "source": [
        "fibonacci_sequence(10)"
      ],
      "metadata": {
        "colab": {
          "base_uri": "https://localhost:8080/"
        },
        "id": "4PmHfmAupKOF",
        "outputId": "2df7d7c6-a655-4c20-da09-b1b9fec429af"
      },
      "execution_count": 4,
      "outputs": [
        {
          "output_type": "execute_result",
          "data": {
            "text/plain": [
              "[0, 1, 1, 2, 3, 5, 8, 13, 21, 34, 55]"
            ]
          },
          "metadata": {},
          "execution_count": 4
        }
      ]
    },
    {
      "cell_type": "code",
      "source": [
        "attributes_train_data = np.array([0, 1, 1, 2, 3, 5, 8, 13, 21, 34, 55])\n",
        "target_data = []"
      ],
      "metadata": {
        "id": "9NHvDCA6Plye"
      },
      "execution_count": 5,
      "outputs": []
    },
    {
      "cell_type": "code",
      "source": [
        "tiny_model = keras.models.Sequential()"
      ],
      "metadata": {
        "id": "iDNxI2avQD9q"
      },
      "execution_count": 6,
      "outputs": []
    },
    {
      "cell_type": "markdown",
      "source": [
        "..."
      ],
      "metadata": {
        "id": "ADHwUkUk6qi3"
      }
    },
    {
      "cell_type": "markdown",
      "source": [
        "..."
      ],
      "metadata": {
        "id": "yPrUWpe86t7e"
      }
    },
    {
      "cell_type": "markdown",
      "source": [
        "..."
      ],
      "metadata": {
        "id": "Kl1eSBqh6sei"
      }
    },
    {
      "cell_type": "markdown",
      "source": [
        "Work in progress."
      ],
      "metadata": {
        "id": "KBteTayyX4sb"
      }
    }
  ],
  "metadata": {
    "colab": {
      "provenance": [],
      "authorship_tag": "ABX9TyPE/6XkNCEALSSXnC+Me5Sx",
      "include_colab_link": true
    },
    "kernelspec": {
      "display_name": "Python 3",
      "name": "python3"
    },
    "language_info": {
      "name": "python"
    }
  },
  "nbformat": 4,
  "nbformat_minor": 0
}